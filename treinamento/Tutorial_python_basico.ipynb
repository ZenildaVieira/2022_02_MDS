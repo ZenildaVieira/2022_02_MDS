{
  "nbformat": 4,
  "nbformat_minor": 0,
  "metadata": {
    "colab": {
      "provenance": []
    },
    "kernelspec": {
      "name": "python3",
      "display_name": "Python 3"
    },
    "language_info": {
      "name": "python"
    }
  },
  "cells": [
    {
      "cell_type": "markdown",
      "source": [
        "# Primeiro programa em Python\n"
      ],
      "metadata": {
        "id": "vALAN40sn-b8"
      }
    },
    {
      "cell_type": "code",
      "source": [
        "print (\"Ola mundo!\")"
      ],
      "metadata": {
        "colab": {
          "base_uri": "https://localhost:8080/"
        },
        "id": "tIaYhE6_oT0L",
        "outputId": "061713c5-d638-4528-85dd-2a414a5141e5"
      },
      "execution_count": null,
      "outputs": [
        {
          "output_type": "stream",
          "name": "stdout",
          "text": [
            "Ola mundo!\n"
          ]
        }
      ]
    },
    {
      "cell_type": "markdown",
      "source": [
        "# Tipos de Dados\n",
        "\n",
        "inteiro - int\n",
        "\n",
        "real - float\n",
        "\n",
        "caractere - str\n",
        "\n",
        "texto - str\n",
        "\n",
        "valor lógico - boolean"
      ],
      "metadata": {
        "id": "HRkW8dSmoZeW"
      }
    },
    {
      "cell_type": "markdown",
      "source": [
        "# Declaração e atribuição de variáveis"
      ],
      "metadata": {
        "id": "AhhalmgepX_1"
      }
    },
    {
      "cell_type": "code",
      "source": [
        "idade: int = 20\n",
        "salario: float; altura: float\n",
        "genero: str\n",
        "nome: str\n",
        "salario = 5800.5\n",
        "altura = 1.63\n",
        "genero = \"F\"\n",
        "nome = \"Maria Silva\"\n",
        "print(f\"IDADE = {idade}\")\n",
        "print(f\"SALARIO = {salario:.2f}\")\n",
        "print(f\"ALTURA = {altura:.2f}\")\n",
        "print(f\"GENERO = {genero}\")\n",
        "print(f\"NOME = {nome}\")"
      ],
      "metadata": {
        "colab": {
          "base_uri": "https://localhost:8080/"
        },
        "id": "vW0wN_Rup2WX",
        "outputId": "e094f22d-d183-4a9d-b340-481a28d63073"
      },
      "execution_count": null,
      "outputs": [
        {
          "output_type": "stream",
          "name": "stdout",
          "text": [
            "IDADE = 20\n",
            "SALARIO = 5800.50\n",
            "ALTURA = 1.63\n",
            "GENERO = F\n",
            "NOME = Maria Silva\n"
          ]
        }
      ]
    },
    {
      "cell_type": "markdown",
      "source": [
        "# Operadores aritméticos\n",
        "\n",
        "adição +\n",
        "\n",
        "subtração -\n",
        "\n",
        "multiplicação *\n",
        "\n",
        "divisão /\n",
        "\n",
        "resto da divisão (\"mod\") %\n",
        "\n",
        "exponenciação **\n",
        "\n",
        "divisão inteira //"
      ],
      "metadata": {
        "id": "jV2G5IMAqGob"
      }
    },
    {
      "cell_type": "markdown",
      "source": [
        "# Operadores comparativos\n",
        "\n",
        "menor <\n",
        "\n",
        "maior >\n",
        "\n",
        "menor ou igual <=\n",
        "\n",
        "maior ou igual >=\n",
        "\n",
        "igual ==\n",
        "\n",
        "diferente != ou <>\n"
      ],
      "metadata": {
        "id": "DPpdCwB1qbgA"
      }
    },
    {
      "cell_type": "markdown",
      "source": [
        "# Operadores lógicos\n",
        "\n",
        "e and\n",
        "\n",
        "ou or\n",
        "\n",
        "não not"
      ],
      "metadata": {
        "id": "GXDKeJKdq1YJ"
      }
    },
    {
      "cell_type": "markdown",
      "source": [
        "# Saída de dados\n",
        "comando print\n",
        "\n",
        "Placeholder de formatação\n",
        "\n",
        "int %d\n",
        "\n",
        "float %f\n",
        "\n",
        "str %s"
      ],
      "metadata": {
        "id": "37rxqZJtq-F4"
      }
    },
    {
      "cell_type": "code",
      "source": [
        "print(\"bom dia\", end=\"\")\n",
        "print(\"boa noite\", end=\"\")"
      ],
      "metadata": {
        "colab": {
          "base_uri": "https://localhost:8080/"
        },
        "id": "FTLWUGp3q8oj",
        "outputId": "cca73133-4bf5-42fa-e56b-e9f0cbe1dd76"
      },
      "execution_count": null,
      "outputs": [
        {
          "output_type": "stream",
          "name": "stdout",
          "text": [
            "bom diaboa noite"
          ]
        }
      ]
    },
    {
      "cell_type": "code",
      "source": [
        "print(\"bom dia\")\n",
        "print(\"boa noite\")"
      ],
      "metadata": {
        "colab": {
          "base_uri": "https://localhost:8080/"
        },
        "id": "2prk3fjFrSMO",
        "outputId": "66c94029-9ac2-4bb1-cbfc-5d6d68373b5a"
      },
      "execution_count": null,
      "outputs": [
        {
          "output_type": "stream",
          "name": "stdout",
          "text": [
            "bom dia\n",
            "boa noite\n"
          ]
        }
      ]
    },
    {
      "cell_type": "code",
      "source": [
        "x: int; y: int\n",
        "x = 10\n",
        "y = 20\n",
        "print(x)\n",
        "print(y)"
      ],
      "metadata": {
        "colab": {
          "base_uri": "https://localhost:8080/"
        },
        "id": "RqJt86PbrTfk",
        "outputId": "c2768997-5b0b-42f2-d0c4-136308ab46ee"
      },
      "execution_count": null,
      "outputs": [
        {
          "output_type": "stream",
          "name": "stdout",
          "text": [
            "10\n",
            "20\n"
          ]
        }
      ]
    },
    {
      "cell_type": "code",
      "source": [
        "x: float\n",
        "x = 2.3456\n",
        "print(\"{:.2f}\".format(x))"
      ],
      "metadata": {
        "colab": {
          "base_uri": "https://localhost:8080/"
        },
        "id": "zEOF1ftZrVo9",
        "outputId": "a86794b1-9459-4b35-cd03-d64ffc508c46"
      },
      "execution_count": null,
      "outputs": [
        {
          "output_type": "stream",
          "name": "stdout",
          "text": [
            "2.35\n"
          ]
        }
      ]
    },
    {
      "cell_type": "code",
      "source": [
        "idade: int\n",
        "salario: float\n",
        "nome: str\n",
        "sexo: str\n",
        "idade = 32\n",
        "salario = 4560.9\n",
        "nome = \"Maria Silva\"\n",
        "sexo = \"F\"\n",
        "print(f\"A funcionaria {nome}, sexo {sexo}, ganha {salario:.2f} e tem {idade} anos\")\n",
        "print(\"A funcionaria {:s}, sexo {:s}, ganha {:.2f} e tem {:d} anos\".format(nome, sexo, salario, idade))"
      ],
      "metadata": {
        "colab": {
          "base_uri": "https://localhost:8080/"
        },
        "id": "HtM1H5gErXO0",
        "outputId": "b5ca5774-7934-4f02-ac33-ca2e98fb4627"
      },
      "execution_count": null,
      "outputs": [
        {
          "output_type": "stream",
          "name": "stdout",
          "text": [
            "A funcionaria Maria Silva, sexo F, ganha 4560.90 e tem 32 anos\n",
            "A funcionaria Maria Silva, sexo F, ganha 4560.90 e tem 32 anos\n"
          ]
        }
      ]
    },
    {
      "cell_type": "markdown",
      "source": [
        "# Processamento de dados / Casting"
      ],
      "metadata": {
        "id": "ppGCBvaTrnx-"
      }
    },
    {
      "cell_type": "code",
      "source": [
        "x:int; y:int\n",
        "x = 5\n",
        "y = 2 * x\n",
        "print(x)\n",
        "print(y)"
      ],
      "metadata": {
        "colab": {
          "base_uri": "https://localhost:8080/"
        },
        "id": "KF7_YHJHuCnU",
        "outputId": "d437583a-8345-4629-e8e1-d51a3af8be64"
      },
      "execution_count": null,
      "outputs": [
        {
          "output_type": "stream",
          "name": "stdout",
          "text": [
            "5\n",
            "10\n"
          ]
        }
      ]
    },
    {
      "cell_type": "code",
      "source": [
        "x: int\n",
        "y: float\n",
        "x = 5\n",
        "y = 2 * x\n",
        "print(x)\n",
        "print(f\"{y:.1f}\")"
      ],
      "metadata": {
        "colab": {
          "base_uri": "https://localhost:8080/"
        },
        "id": "hOl39DgcuG4X",
        "outputId": "f6759f89-8ce3-4502-f9b0-0c7f1f3ae91a"
      },
      "execution_count": null,
      "outputs": [
        {
          "output_type": "stream",
          "name": "stdout",
          "text": [
            "5\n",
            "10.0\n"
          ]
        }
      ]
    },
    {
      "cell_type": "code",
      "source": [
        "b1: float; b2: float; h: float; area: float\n",
        "b1 = 6.0\n",
        "b2 = 8.0\n",
        "h = 5.0\n",
        "area = (b1 + b2) / 2.0 * h\n",
        "print(area)"
      ],
      "metadata": {
        "colab": {
          "base_uri": "https://localhost:8080/"
        },
        "id": "XVJtZDEQudV3",
        "outputId": "cb218081-dc95-4761-d2fd-9c0db3bf0a7b"
      },
      "execution_count": null,
      "outputs": [
        {
          "output_type": "stream",
          "name": "stdout",
          "text": [
            "35.0\n"
          ]
        }
      ]
    },
    {
      "cell_type": "code",
      "source": [
        "a: int; b: int; resultado: int\n",
        "a = 5\n",
        "b = 2\n",
        "resultado = a // b\n",
        "print(resultado)"
      ],
      "metadata": {
        "colab": {
          "base_uri": "https://localhost:8080/"
        },
        "id": "knBm8_vqugQS",
        "outputId": "146764db-39a6-4ff6-c04d-d59b8d7c47b4"
      },
      "execution_count": null,
      "outputs": [
        {
          "output_type": "stream",
          "name": "stdout",
          "text": [
            "2\n"
          ]
        }
      ]
    },
    {
      "cell_type": "code",
      "source": [
        "a: float\n",
        "b: int\n",
        "a = 5.0\n",
        "b = int(a)\n",
        "print(b)"
      ],
      "metadata": {
        "colab": {
          "base_uri": "https://localhost:8080/"
        },
        "id": "OPoYFgPtukxW",
        "outputId": "72fbd072-54a3-4f22-cdcd-70d79f6765c5"
      },
      "execution_count": null,
      "outputs": [
        {
          "output_type": "stream",
          "name": "stdout",
          "text": [
            "5\n"
          ]
        }
      ]
    },
    {
      "cell_type": "markdown",
      "source": [
        "# Entrada de dados"
      ],
      "metadata": {
        "id": "OL_5iD72vjvE"
      }
    },
    {
      "cell_type": "code",
      "source": [
        "salario1: float; salario2: float\n",
        "nome1: str; nome2: str\n",
        "idade: int\n",
        "sexo: str\n",
        "nome1 = input(\"Nome da primeira pessoa: \")\n",
        "salario1 = float(input(\"Salario da primeira pessoa: \"))\n",
        "nome2 = input(\"Nome da segunda pessoa: \")\n",
        "salario2 = float(input(\"Salario da segunda pessoa: \"))\n",
        "idade = int(input(\"Digite uma idade: \"))\n",
        "sexo = input(\"Digite um sexo (F/M): \")\n",
        "print(f\"Nome 1: {nome1}\")\n",
        "print(f\"Salario 1: {salario1:.2f}\")\n",
        "print(f\"Nome 2: {nome2}\")\n",
        "print(f\"Salario 2: {salario2:.2f}\")\n",
        "print(f\"Idade: {idade}\")\n",
        "print(f\"Sexo: {sexo}\")"
      ],
      "metadata": {
        "colab": {
          "base_uri": "https://localhost:8080/"
        },
        "id": "kkM6jkZuvmO0",
        "outputId": "3a24e880-4cfd-40b6-ae2b-0e3d361fe3a5"
      },
      "execution_count": null,
      "outputs": [
        {
          "output_type": "stream",
          "name": "stdout",
          "text": [
            "Nome da primeira pessoa: z\n",
            "Salario da primeira pessoa: 7\n",
            "Nome da segunda pessoa: b\n",
            "Salario da segunda pessoa: 8\n",
            "Digite uma idade: 9\n",
            "Digite um sexo (F/M): f\n",
            "Nome 1: z\n",
            "Salario 1: 7.00\n",
            "Nome 2: b\n",
            "Salario 2: 8.00\n",
            "Idade: 9\n",
            "Sexo: f\n"
          ]
        }
      ]
    },
    {
      "cell_type": "markdown",
      "source": [
        "# Estrutura condicional"
      ],
      "metadata": {
        "id": "F98KSy7Kvxx0"
      }
    },
    {
      "cell_type": "code",
      "source": [
        "hora: int\n",
        "hora = int(input(\"Digite uma hora do dia: \"))\n",
        "if hora < 12:\n",
        "    print(\"Bom dia!\")\n",
        "elif hora < 18:\n",
        "    print(\"Boa tarde!\")\n",
        "else:\n",
        "    print(\"Boa noite!\")"
      ],
      "metadata": {
        "colab": {
          "base_uri": "https://localhost:8080/"
        },
        "id": "6oacP2wxv8ag",
        "outputId": "1db3007c-2c89-470e-d23b-07db324dd7b2"
      },
      "execution_count": null,
      "outputs": [
        {
          "output_type": "stream",
          "name": "stdout",
          "text": [
            "Digite uma hora do dia: 6\n",
            "Bom dia!\n"
          ]
        }
      ]
    },
    {
      "cell_type": "markdown",
      "source": [
        "# Estrutura enquanto"
      ],
      "metadata": {
        "id": "Yd9E9ADwwYVv"
      }
    },
    {
      "cell_type": "code",
      "source": [
        "x: int\n",
        "soma: int\n",
        "soma = 0\n",
        "x = int(input(\"Digite o primeiro numero: \"))\n",
        "while x != 0:\n",
        "    soma = soma + x\n",
        "    x = int(input(\"Digite outro numero: \"))\n",
        "print(\"SOMA = \", soma)"
      ],
      "metadata": {
        "id": "HSuzGMLHwZv3"
      },
      "execution_count": null,
      "outputs": []
    },
    {
      "cell_type": "markdown",
      "source": [
        "# Estrutura para"
      ],
      "metadata": {
        "id": "5JnJDqBvwl7n"
      }
    },
    {
      "cell_type": "code",
      "source": [
        "soma: int\n",
        "N = int(input(\"Quantos numeros serao digitados? \"))\n",
        "soma = 0\n",
        "for i in range(0, N):\n",
        "    x = int(input(\"Digite um numero: \"))\n",
        "    soma = soma + x\n",
        "print(\"SOMA = \", soma)\n",
        "for i in range(0, N, 2):\n",
        "    x = int(input(\"Digite um numero: \"))\n",
        "    soma = soma + x\n",
        "print(\"SOMA = \", soma)"
      ],
      "metadata": {
        "colab": {
          "base_uri": "https://localhost:8080/"
        },
        "id": "I02lqnrHwpaJ",
        "outputId": "31639a94-3769-4c60-d852-55d93b72aa20"
      },
      "execution_count": null,
      "outputs": [
        {
          "output_type": "stream",
          "name": "stdout",
          "text": [
            "Quantos numeros serao digitados? 5\n",
            "Digite um numero: 1\n",
            "Digite um numero: 2\n",
            "Digite um numero: 3\n",
            "Digite um numero: 4\n",
            "Digite um numero: 5\n",
            "SOMA =  15\n",
            "Digite um numero: 1\n",
            "Digite um numero: 2\n",
            "Digite um numero: 3\n",
            "SOMA =  21\n"
          ]
        }
      ]
    },
    {
      "cell_type": "markdown",
      "source": [
        "# Vetores"
      ],
      "metadata": {
        "id": "hXv-I4Xgxmm6"
      }
    },
    {
      "cell_type": "code",
      "source": [
        "N = int(input(\"Quantos numeros voce vai digitar? \"))\n",
        "vet: [float] = [0 for x in range(N)]\n",
        "for i in range(0, N):\n",
        "    vet[i] = float(input(\"Digite um numero: \"))\n",
        "print()\n",
        "print(\"NUMEROS DIGITADOS:\")\n",
        "for i in range(0, N):\n",
        "    print(f\"{vet[i]:.1f}\")  "
      ],
      "metadata": {
        "colab": {
          "base_uri": "https://localhost:8080/"
        },
        "id": "TOvEUA1WxopW",
        "outputId": "c7c5d2fe-8c13-4f31-c42a-2cd5709d0d13"
      },
      "execution_count": null,
      "outputs": [
        {
          "output_type": "stream",
          "name": "stdout",
          "text": [
            "Quantos numeros voce vai digitar? 3\n",
            "Digite um numero: 2\n",
            "Digite um numero: 3\n",
            "Digite um numero: 4\n",
            "\n",
            "NUMEROS DIGITADOS:\n",
            "2.0\n",
            "3.0\n",
            "4.0\n"
          ]
        }
      ]
    },
    {
      "cell_type": "markdown",
      "source": [
        "# Matrizes"
      ],
      "metadata": {
        "id": "3ElLvDadzZgc"
      }
    },
    {
      "cell_type": "code",
      "source": [
        "N: int\n",
        "M = int(input(\"Quantas linhas vai ter a matriz? \"))\n",
        "N = int(input(\"Quantas colunas vai ter a matriz? \"))\n",
        "mat: [[int]] = [[0 for x in range(N)] for x in range(M)]\n",
        "for i in range(0, M):\n",
        "    for j in range(0, N):\n",
        "        mat[i][j] = int(input(f\"Elemento [{i},{j}]: \"))\n",
        "print()\n",
        "print(\"MATRIZ DIGITADA:\")\n",
        "for i in range(0, M):\n",
        "    for j in range(0, N):\n",
        "        print(f\"{mat[i][j]} \", end=\"\")\n",
        "    print()"
      ],
      "metadata": {
        "colab": {
          "base_uri": "https://localhost:8080/"
        },
        "id": "zV1IUFdYza0Z",
        "outputId": "2c506c8c-4054-4a3c-874d-b49f6563ed23"
      },
      "execution_count": null,
      "outputs": [
        {
          "output_type": "stream",
          "name": "stdout",
          "text": [
            "Quantas linhas vai ter a matriz? 2\n",
            "Quantas colunas vai ter a matriz? 3\n",
            "Elemento [0,0]: 1\n",
            "Elemento [0,1]: 2\n",
            "Elemento [0,2]: 2\n",
            "Elemento [1,0]: 1\n",
            "Elemento [1,1]: 2\n",
            "Elemento [1,2]: 2\n",
            "\n",
            "MATRIZ DIGITADA:\n",
            "1 2 2 \n",
            "1 2 2 \n"
          ]
        }
      ]
    },
    {
      "cell_type": "markdown",
      "source": [
        "# Exemplo de código em Python"
      ],
      "metadata": {
        "id": "unBnfNfUv8kb"
      }
    },
    {
      "cell_type": "code",
      "source": [
        "# importando biblioteca\n",
        "import plotly.express as px # biblioteca para plotar o grafico\n",
        "\n",
        "# cria uma lista para receber os nomes das linguagens\n",
        "nomes_linguagens: [str] = [0 for aa in range(28)] \n",
        "# carrega os nomes das linguagens\n",
        "nomes_linguagens = ['Abap', 'Ada', 'C/C++', 'C#', 'Cobol', 'Dart', 'Delphi/Pascal', 'Go', 'Groovy', 'Haskell', 'Java', 'JavaScript', 'Julia', 'Kotlin', 'Lua', 'Matlab', 'Objective-C', 'Perl', 'PHP', 'Python', 'R', 'Ruby', 'Rust', 'Scala', 'Swift', 'TypeScript', 'VBA', 'Visual Basic']\n",
        "\n",
        "# cria uma lista para receber a media dos valores de cada coluna (linguagem)\n",
        "media: [float] = [0 for aa in range(28)] \n",
        "# carrega os valores da media de uso de cada linguagem\n",
        "media = [0.52, 0.61, 6.68, 7.03, 0.33, 0.56, 0.07, 1.41, 0.43, 0.25, 17.74, 8.95, 0.35, 1.74, 0.49, 1.55, 2.46, 0.40, 6.25, 30.28, 3.83, 1.07, 0.85, 0.54, 1.76, 1.69, 1.25, 0.69]\n",
        "\n",
        "# ordena as linguagens pela media em ordem decrescente \n",
        "aux_media = 0 # inicializa a variavel auxiliar que vai receber o valor da media temporariamente enquanto troca de lugar as medias que estao fora de ordem\n",
        "aux_nomes_linguagens = '' # a mesma coisa pra linguagem, para ela acompanhar sua respectiva media\n",
        "\n",
        "for i in range(0,27): # percorre a lista media uma vez\n",
        "    for j in range(i, 27): # percorre a lista media novamente comparando os valores \n",
        "        if media[i]<media[j]: # se estiver fora de ordem usa a variavel aux para trocar de lugar os valores e colocar na ordem\n",
        "            aux_media = media[i] # ordena a media\n",
        "            media[i] = media[j]\n",
        "            media[j] = aux_media\n",
        "            aux_nomes_linguagens = nomes_linguagens[i] # faz o nome da linguagem trocar de lugar tambem para acompanhar sua respectiva media\n",
        "            nomes_linguagens[i] = nomes_linguagens[j]\n",
        "            nomes_linguagens[j] = aux_nomes_linguagens\n",
        "\n",
        "# plota no gráfico apenas as 15 primeiras\n",
        "dados_x=nomes_linguagens[0:15] # pega as linguagens de 0 a 14 - porque a 15 nao entra no fatiamento da lista\n",
        "dados_y=media[0:15] # pega as medias de 0 a 14 - porque a 15 nao entra no fatiamento da lista\n",
        "\n",
        "fig = px.pie(names = dados_x, values=dados_y, title=f'As 15 linguagens de programação mais usadas no ano de 2021') # usa o valor da variavel\n",
        "fig.show() # mostra o grafico\n"
      ],
      "metadata": {
        "colab": {
          "base_uri": "https://localhost:8080/",
          "height": 542
        },
        "id": "Q52WRrflv64U",
        "outputId": "7d238e5b-f7f1-407c-8a13-4dfe4aa8cb31"
      },
      "execution_count": 5,
      "outputs": [
        {
          "output_type": "display_data",
          "data": {
            "text/html": [
              "<html>\n",
              "<head><meta charset=\"utf-8\" /></head>\n",
              "<body>\n",
              "    <div>            <script src=\"https://cdnjs.cloudflare.com/ajax/libs/mathjax/2.7.5/MathJax.js?config=TeX-AMS-MML_SVG\"></script><script type=\"text/javascript\">if (window.MathJax) {MathJax.Hub.Config({SVG: {font: \"STIX-Web\"}});}</script>                <script type=\"text/javascript\">window.PlotlyConfig = {MathJaxConfig: 'local'};</script>\n",
              "        <script src=\"https://cdn.plot.ly/plotly-2.8.3.min.js\"></script>                <div id=\"8635d410-833c-4cad-b2d7-afa1cbd186dc\" class=\"plotly-graph-div\" style=\"height:525px; width:100%;\"></div>            <script type=\"text/javascript\">                                    window.PLOTLYENV=window.PLOTLYENV || {};                                    if (document.getElementById(\"8635d410-833c-4cad-b2d7-afa1cbd186dc\")) {                    Plotly.newPlot(                        \"8635d410-833c-4cad-b2d7-afa1cbd186dc\",                        [{\"domain\":{\"x\":[0.0,1.0],\"y\":[0.0,1.0]},\"hovertemplate\":\"label=%{label}<br>value=%{value}<extra></extra>\",\"labels\":[\"Python\",\"Java\",\"JavaScript\",\"C#\",\"C/C++\",\"PHP\",\"R\",\"Objective-C\",\"Swift\",\"Kotlin\",\"TypeScript\",\"Matlab\",\"Go\",\"VBA\",\"Ruby\"],\"legendgroup\":\"\",\"name\":\"\",\"showlegend\":true,\"values\":[30.28,17.74,8.95,7.03,6.68,6.25,3.83,2.46,1.76,1.74,1.69,1.55,1.41,1.25,1.07],\"type\":\"pie\"}],                        {\"template\":{\"data\":{\"bar\":[{\"error_x\":{\"color\":\"#2a3f5f\"},\"error_y\":{\"color\":\"#2a3f5f\"},\"marker\":{\"line\":{\"color\":\"#E5ECF6\",\"width\":0.5},\"pattern\":{\"fillmode\":\"overlay\",\"size\":10,\"solidity\":0.2}},\"type\":\"bar\"}],\"barpolar\":[{\"marker\":{\"line\":{\"color\":\"#E5ECF6\",\"width\":0.5},\"pattern\":{\"fillmode\":\"overlay\",\"size\":10,\"solidity\":0.2}},\"type\":\"barpolar\"}],\"carpet\":[{\"aaxis\":{\"endlinecolor\":\"#2a3f5f\",\"gridcolor\":\"white\",\"linecolor\":\"white\",\"minorgridcolor\":\"white\",\"startlinecolor\":\"#2a3f5f\"},\"baxis\":{\"endlinecolor\":\"#2a3f5f\",\"gridcolor\":\"white\",\"linecolor\":\"white\",\"minorgridcolor\":\"white\",\"startlinecolor\":\"#2a3f5f\"},\"type\":\"carpet\"}],\"choropleth\":[{\"colorbar\":{\"outlinewidth\":0,\"ticks\":\"\"},\"type\":\"choropleth\"}],\"contour\":[{\"colorbar\":{\"outlinewidth\":0,\"ticks\":\"\"},\"colorscale\":[[0.0,\"#0d0887\"],[0.1111111111111111,\"#46039f\"],[0.2222222222222222,\"#7201a8\"],[0.3333333333333333,\"#9c179e\"],[0.4444444444444444,\"#bd3786\"],[0.5555555555555556,\"#d8576b\"],[0.6666666666666666,\"#ed7953\"],[0.7777777777777778,\"#fb9f3a\"],[0.8888888888888888,\"#fdca26\"],[1.0,\"#f0f921\"]],\"type\":\"contour\"}],\"contourcarpet\":[{\"colorbar\":{\"outlinewidth\":0,\"ticks\":\"\"},\"type\":\"contourcarpet\"}],\"heatmap\":[{\"colorbar\":{\"outlinewidth\":0,\"ticks\":\"\"},\"colorscale\":[[0.0,\"#0d0887\"],[0.1111111111111111,\"#46039f\"],[0.2222222222222222,\"#7201a8\"],[0.3333333333333333,\"#9c179e\"],[0.4444444444444444,\"#bd3786\"],[0.5555555555555556,\"#d8576b\"],[0.6666666666666666,\"#ed7953\"],[0.7777777777777778,\"#fb9f3a\"],[0.8888888888888888,\"#fdca26\"],[1.0,\"#f0f921\"]],\"type\":\"heatmap\"}],\"heatmapgl\":[{\"colorbar\":{\"outlinewidth\":0,\"ticks\":\"\"},\"colorscale\":[[0.0,\"#0d0887\"],[0.1111111111111111,\"#46039f\"],[0.2222222222222222,\"#7201a8\"],[0.3333333333333333,\"#9c179e\"],[0.4444444444444444,\"#bd3786\"],[0.5555555555555556,\"#d8576b\"],[0.6666666666666666,\"#ed7953\"],[0.7777777777777778,\"#fb9f3a\"],[0.8888888888888888,\"#fdca26\"],[1.0,\"#f0f921\"]],\"type\":\"heatmapgl\"}],\"histogram\":[{\"marker\":{\"pattern\":{\"fillmode\":\"overlay\",\"size\":10,\"solidity\":0.2}},\"type\":\"histogram\"}],\"histogram2d\":[{\"colorbar\":{\"outlinewidth\":0,\"ticks\":\"\"},\"colorscale\":[[0.0,\"#0d0887\"],[0.1111111111111111,\"#46039f\"],[0.2222222222222222,\"#7201a8\"],[0.3333333333333333,\"#9c179e\"],[0.4444444444444444,\"#bd3786\"],[0.5555555555555556,\"#d8576b\"],[0.6666666666666666,\"#ed7953\"],[0.7777777777777778,\"#fb9f3a\"],[0.8888888888888888,\"#fdca26\"],[1.0,\"#f0f921\"]],\"type\":\"histogram2d\"}],\"histogram2dcontour\":[{\"colorbar\":{\"outlinewidth\":0,\"ticks\":\"\"},\"colorscale\":[[0.0,\"#0d0887\"],[0.1111111111111111,\"#46039f\"],[0.2222222222222222,\"#7201a8\"],[0.3333333333333333,\"#9c179e\"],[0.4444444444444444,\"#bd3786\"],[0.5555555555555556,\"#d8576b\"],[0.6666666666666666,\"#ed7953\"],[0.7777777777777778,\"#fb9f3a\"],[0.8888888888888888,\"#fdca26\"],[1.0,\"#f0f921\"]],\"type\":\"histogram2dcontour\"}],\"mesh3d\":[{\"colorbar\":{\"outlinewidth\":0,\"ticks\":\"\"},\"type\":\"mesh3d\"}],\"parcoords\":[{\"line\":{\"colorbar\":{\"outlinewidth\":0,\"ticks\":\"\"}},\"type\":\"parcoords\"}],\"pie\":[{\"automargin\":true,\"type\":\"pie\"}],\"scatter\":[{\"marker\":{\"colorbar\":{\"outlinewidth\":0,\"ticks\":\"\"}},\"type\":\"scatter\"}],\"scatter3d\":[{\"line\":{\"colorbar\":{\"outlinewidth\":0,\"ticks\":\"\"}},\"marker\":{\"colorbar\":{\"outlinewidth\":0,\"ticks\":\"\"}},\"type\":\"scatter3d\"}],\"scattercarpet\":[{\"marker\":{\"colorbar\":{\"outlinewidth\":0,\"ticks\":\"\"}},\"type\":\"scattercarpet\"}],\"scattergeo\":[{\"marker\":{\"colorbar\":{\"outlinewidth\":0,\"ticks\":\"\"}},\"type\":\"scattergeo\"}],\"scattergl\":[{\"marker\":{\"colorbar\":{\"outlinewidth\":0,\"ticks\":\"\"}},\"type\":\"scattergl\"}],\"scattermapbox\":[{\"marker\":{\"colorbar\":{\"outlinewidth\":0,\"ticks\":\"\"}},\"type\":\"scattermapbox\"}],\"scatterpolar\":[{\"marker\":{\"colorbar\":{\"outlinewidth\":0,\"ticks\":\"\"}},\"type\":\"scatterpolar\"}],\"scatterpolargl\":[{\"marker\":{\"colorbar\":{\"outlinewidth\":0,\"ticks\":\"\"}},\"type\":\"scatterpolargl\"}],\"scatterternary\":[{\"marker\":{\"colorbar\":{\"outlinewidth\":0,\"ticks\":\"\"}},\"type\":\"scatterternary\"}],\"surface\":[{\"colorbar\":{\"outlinewidth\":0,\"ticks\":\"\"},\"colorscale\":[[0.0,\"#0d0887\"],[0.1111111111111111,\"#46039f\"],[0.2222222222222222,\"#7201a8\"],[0.3333333333333333,\"#9c179e\"],[0.4444444444444444,\"#bd3786\"],[0.5555555555555556,\"#d8576b\"],[0.6666666666666666,\"#ed7953\"],[0.7777777777777778,\"#fb9f3a\"],[0.8888888888888888,\"#fdca26\"],[1.0,\"#f0f921\"]],\"type\":\"surface\"}],\"table\":[{\"cells\":{\"fill\":{\"color\":\"#EBF0F8\"},\"line\":{\"color\":\"white\"}},\"header\":{\"fill\":{\"color\":\"#C8D4E3\"},\"line\":{\"color\":\"white\"}},\"type\":\"table\"}]},\"layout\":{\"annotationdefaults\":{\"arrowcolor\":\"#2a3f5f\",\"arrowhead\":0,\"arrowwidth\":1},\"autotypenumbers\":\"strict\",\"coloraxis\":{\"colorbar\":{\"outlinewidth\":0,\"ticks\":\"\"}},\"colorscale\":{\"diverging\":[[0,\"#8e0152\"],[0.1,\"#c51b7d\"],[0.2,\"#de77ae\"],[0.3,\"#f1b6da\"],[0.4,\"#fde0ef\"],[0.5,\"#f7f7f7\"],[0.6,\"#e6f5d0\"],[0.7,\"#b8e186\"],[0.8,\"#7fbc41\"],[0.9,\"#4d9221\"],[1,\"#276419\"]],\"sequential\":[[0.0,\"#0d0887\"],[0.1111111111111111,\"#46039f\"],[0.2222222222222222,\"#7201a8\"],[0.3333333333333333,\"#9c179e\"],[0.4444444444444444,\"#bd3786\"],[0.5555555555555556,\"#d8576b\"],[0.6666666666666666,\"#ed7953\"],[0.7777777777777778,\"#fb9f3a\"],[0.8888888888888888,\"#fdca26\"],[1.0,\"#f0f921\"]],\"sequentialminus\":[[0.0,\"#0d0887\"],[0.1111111111111111,\"#46039f\"],[0.2222222222222222,\"#7201a8\"],[0.3333333333333333,\"#9c179e\"],[0.4444444444444444,\"#bd3786\"],[0.5555555555555556,\"#d8576b\"],[0.6666666666666666,\"#ed7953\"],[0.7777777777777778,\"#fb9f3a\"],[0.8888888888888888,\"#fdca26\"],[1.0,\"#f0f921\"]]},\"colorway\":[\"#636efa\",\"#EF553B\",\"#00cc96\",\"#ab63fa\",\"#FFA15A\",\"#19d3f3\",\"#FF6692\",\"#B6E880\",\"#FF97FF\",\"#FECB52\"],\"font\":{\"color\":\"#2a3f5f\"},\"geo\":{\"bgcolor\":\"white\",\"lakecolor\":\"white\",\"landcolor\":\"#E5ECF6\",\"showlakes\":true,\"showland\":true,\"subunitcolor\":\"white\"},\"hoverlabel\":{\"align\":\"left\"},\"hovermode\":\"closest\",\"mapbox\":{\"style\":\"light\"},\"paper_bgcolor\":\"white\",\"plot_bgcolor\":\"#E5ECF6\",\"polar\":{\"angularaxis\":{\"gridcolor\":\"white\",\"linecolor\":\"white\",\"ticks\":\"\"},\"bgcolor\":\"#E5ECF6\",\"radialaxis\":{\"gridcolor\":\"white\",\"linecolor\":\"white\",\"ticks\":\"\"}},\"scene\":{\"xaxis\":{\"backgroundcolor\":\"#E5ECF6\",\"gridcolor\":\"white\",\"gridwidth\":2,\"linecolor\":\"white\",\"showbackground\":true,\"ticks\":\"\",\"zerolinecolor\":\"white\"},\"yaxis\":{\"backgroundcolor\":\"#E5ECF6\",\"gridcolor\":\"white\",\"gridwidth\":2,\"linecolor\":\"white\",\"showbackground\":true,\"ticks\":\"\",\"zerolinecolor\":\"white\"},\"zaxis\":{\"backgroundcolor\":\"#E5ECF6\",\"gridcolor\":\"white\",\"gridwidth\":2,\"linecolor\":\"white\",\"showbackground\":true,\"ticks\":\"\",\"zerolinecolor\":\"white\"}},\"shapedefaults\":{\"line\":{\"color\":\"#2a3f5f\"}},\"ternary\":{\"aaxis\":{\"gridcolor\":\"white\",\"linecolor\":\"white\",\"ticks\":\"\"},\"baxis\":{\"gridcolor\":\"white\",\"linecolor\":\"white\",\"ticks\":\"\"},\"bgcolor\":\"#E5ECF6\",\"caxis\":{\"gridcolor\":\"white\",\"linecolor\":\"white\",\"ticks\":\"\"}},\"title\":{\"x\":0.05},\"xaxis\":{\"automargin\":true,\"gridcolor\":\"white\",\"linecolor\":\"white\",\"ticks\":\"\",\"title\":{\"standoff\":15},\"zerolinecolor\":\"white\",\"zerolinewidth\":2},\"yaxis\":{\"automargin\":true,\"gridcolor\":\"white\",\"linecolor\":\"white\",\"ticks\":\"\",\"title\":{\"standoff\":15},\"zerolinecolor\":\"white\",\"zerolinewidth\":2}}},\"legend\":{\"tracegroupgap\":0},\"title\":{\"text\":\"As 15 linguagens de programa\\u00e7\\u00e3o mais usadas no ano de 2021\"}},                        {\"responsive\": true}                    ).then(function(){\n",
              "                            \n",
              "var gd = document.getElementById('8635d410-833c-4cad-b2d7-afa1cbd186dc');\n",
              "var x = new MutationObserver(function (mutations, observer) {{\n",
              "        var display = window.getComputedStyle(gd).display;\n",
              "        if (!display || display === 'none') {{\n",
              "            console.log([gd, 'removed!']);\n",
              "            Plotly.purge(gd);\n",
              "            observer.disconnect();\n",
              "        }}\n",
              "}});\n",
              "\n",
              "// Listen for the removal of the full notebook cells\n",
              "var notebookContainer = gd.closest('#notebook-container');\n",
              "if (notebookContainer) {{\n",
              "    x.observe(notebookContainer, {childList: true});\n",
              "}}\n",
              "\n",
              "// Listen for the clearing of the current output cell\n",
              "var outputEl = gd.closest('.output');\n",
              "if (outputEl) {{\n",
              "    x.observe(outputEl, {childList: true});\n",
              "}}\n",
              "\n",
              "                        })                };                            </script>        </div>\n",
              "</body>\n",
              "</html>"
            ]
          },
          "metadata": {}
        }
      ]
    },
    {
      "cell_type": "markdown",
      "source": [],
      "metadata": {
        "id": "RS3IbqoMv7dr"
      }
    }
  ]
}